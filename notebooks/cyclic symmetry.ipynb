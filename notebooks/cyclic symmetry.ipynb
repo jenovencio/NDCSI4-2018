{
 "cells": [
  {
   "cell_type": "code",
   "execution_count": 1,
   "metadata": {},
   "outputs": [
    {
     "name": "stdout",
     "output_type": "stream",
     "text": [
      "Python was not able to load the fast fortran assembly routines.\n",
      "\n",
      "Python was not able to load the fast fortran material routines.\n",
      "\n"
     ]
    },
    {
     "ename": "ModuleNotFoundError",
     "evalue": "No module named 'ipywidgets'",
     "output_type": "error",
     "traceback": [
      "\u001b[1;31m---------------------------------------------------------------------------\u001b[0m",
      "\u001b[1;31mModuleNotFoundError\u001b[0m                       Traceback (most recent call last)",
      "\u001b[1;32m<ipython-input-1-a242c6414b8f>\u001b[0m in \u001b[0;36m<module>\u001b[1;34m()\u001b[0m\n\u001b[0;32m      6\u001b[0m \u001b[1;32mimport\u001b[0m \u001b[0mnumpy\u001b[0m \u001b[1;32mas\u001b[0m \u001b[0mnp\u001b[0m\u001b[1;33m\u001b[0m\u001b[0m\n\u001b[0;32m      7\u001b[0m \u001b[1;33m\u001b[0m\u001b[0m\n\u001b[1;32m----> 8\u001b[1;33m \u001b[1;32mfrom\u001b[0m \u001b[0mipywidgets\u001b[0m \u001b[1;32mimport\u001b[0m \u001b[0minteract\u001b[0m\u001b[1;33m,\u001b[0m \u001b[0minteractive\u001b[0m\u001b[1;33m,\u001b[0m \u001b[0mfixed\u001b[0m\u001b[1;33m,\u001b[0m \u001b[0minteract_manual\u001b[0m\u001b[1;33m\u001b[0m\u001b[0m\n\u001b[0m\u001b[0;32m      9\u001b[0m \u001b[1;32mimport\u001b[0m \u001b[0mipywidgets\u001b[0m \u001b[1;32mas\u001b[0m \u001b[0mwidgets\u001b[0m\u001b[1;33m\u001b[0m\u001b[0m\n\u001b[0;32m     10\u001b[0m \u001b[1;31m#%matplotlib notebook\u001b[0m\u001b[1;33m\u001b[0m\u001b[1;33m\u001b[0m\u001b[0m\n",
      "\u001b[1;31mModuleNotFoundError\u001b[0m: No module named 'ipywidgets'"
     ]
    }
   ],
   "source": [
    "import amfe\n",
    "import matplotlib.pyplot as plt\n",
    "import pandas as pd\n",
    "import scipy.linalg as linalg\n",
    "from scipy.sparse import linalg as splinalg\n",
    "import numpy as np\n",
    "\n",
    "from ipywidgets import interact, interactive, fixed, interact_manual\n",
    "import ipywidgets as widgets\n",
    "#%matplotlib notebook\n",
    "\n",
    "mshfile = amfe.amfe_dir('meshes/test_meshes/ring_connection.msh')\n",
    "\n",
    "\n",
    "\n",
    "m = amfe.Mesh()\n",
    "m.import_msh(mshfile)\n",
    "\n",
    "\n",
    "\n",
    "amfe.plot_mesh(m)\n",
    "plt.show()"
   ]
  },
  {
   "cell_type": "code",
   "execution_count": null,
   "metadata": {},
   "outputs": [],
   "source": [
    "my_comp = amfe.CraigBamptonComponent()\n",
    "my_comp.set_mesh_obj(m)\n",
    "\n",
    "my_material = amfe.KirchhoffMaterial(E=210E9, nu=0.3, rho=7.86E3, plane_stress=True, thickness=1.0)\n",
    "my_comp.set_domain(6,my_material)\n",
    "my_comp.apply_neumann_boundaries(2,1e8, 'normal')\n",
    "\n",
    "K, f = my_comp.assembly_class.assemble_k_and_f()\n",
    "K_, f = my_comp.assembly_class.assemble_k_and_f_neumann()\n",
    "M = my_comp.assembly_class.assemble_m()\n",
    "\n",
    "\n",
    "dirsub = m.get_submesh('phys_group', 1)\n",
    "cyclic_low = m.get_submesh('phys_group', 3)\n",
    "cyclic_high = m.get_submesh('phys_group', 4)\n",
    "\n",
    "\n",
    "id_matrix = my_comp.assembly_class.id_matrix\n",
    "dir_dofs = amfe.get_dirichlet_dofs(dirsub, direction ='xy', id_matrix=id_matrix)\n",
    "low_dofs = amfe.get_dirichlet_dofs(cyclic_low, direction ='xy', id_matrix=id_matrix)\n",
    "high_dofs = amfe.get_dirichlet_dofs(cyclic_high, direction ='xy', id_matrix=id_matrix)\n",
    "\n",
    "K, M, f = my_comp.insert_dirichlet_boundary_cond(K,M,f,dir_dofs, value = 0.0)\n",
    "K_mod, M_mod, f_mod, P = my_comp.insert_cyclic_symm_boundary_cond(K, M, f, low_dofs = low_dofs, high_dofs = high_dofs, theta = 0.0)    \n",
    "\n",
    "\n",
    "omega, V_dynamic = linalg.eig(K_mod.todense(), M_mod.todense())\n",
    "#omega, V_dynamic = splinalg.eigs(K_mod, k=30, M = M_mod, sigma=1.0,  which='SM')\n",
    "\n",
    "indexes = np.argsort(omega)\n",
    "V_dynamic = V_dynamic [:,indexes]\n",
    "plt.plot(omega[indexes],'o')\n",
    "plt.show()"
   ]
  },
  {
   "cell_type": "code",
   "execution_count": null,
   "metadata": {},
   "outputs": [],
   "source": [
    "mode = 21\n",
    "def get_mode(mode):\n",
    "    V_dynamic2 = V_dynamic\n",
    "    mode_shapes = V_dynamic2\n",
    "    my_comp.u_output = []\n",
    "    my_comp.u_output.append(0*mode_shapes[:,mode])\n",
    "    my_comp.u_output.append((P.T.dot(mode_shapes[:,mode])))\n",
    "    return my_comp\n",
    "\n",
    "\n",
    "@interact(scale=(-4,5,0.4),mode=(0,30,1))   \n",
    "def plot(scale=0,mode=0):\n",
    "    my_comp = get_mode(mode)\n",
    "    fig, ax1 = plt.subplots(1, figsize=(20,10), dpi=80)\n",
    "    amfe.plot_system_solution(my_comp,ax=ax1,factor=1.0*scale)\n",
    "    \n",
    "    plt.show()"
   ]
  }
 ],
 "metadata": {
  "kernelspec": {
   "display_name": "Python (NDCSI)",
   "language": "python",
   "name": "ndcsi"
  },
  "language_info": {
   "codemirror_mode": {
    "name": "ipython",
    "version": 3
   },
   "file_extension": ".py",
   "mimetype": "text/x-python",
   "name": "python",
   "nbconvert_exporter": "python",
   "pygments_lexer": "ipython3",
   "version": "3.6.6"
  }
 },
 "nbformat": 4,
 "nbformat_minor": 2
}
