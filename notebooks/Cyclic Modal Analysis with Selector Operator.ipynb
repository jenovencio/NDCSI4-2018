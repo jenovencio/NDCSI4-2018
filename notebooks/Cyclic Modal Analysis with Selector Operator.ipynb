{
 "cells": [
  {
   "cell_type": "code",
   "execution_count": 1,
   "metadata": {},
   "outputs": [
    {
     "name": "stdout",
     "output_type": "stream",
     "text": [
      "Python was not able to load the fast fortran assembly routines.\n",
      "\n",
      "Python was not able to load the fast fortran material routines.\n",
      "\n",
      "*************************************************************\n",
      "\n",
      "Loading Abaqus-mesh from C:\\NDCSI\\framework\\data\\ansys_simple_blade_disc_files\\simple_blade_disc.inp\n",
      "Can not read the given string list\n",
      "WARNING 3D case were selected\n",
      "Mesh C:\\NDCSI\\framework\\data\\ansys_simple_blade_disc_files\\simple_blade_disc.inp successfully imported. \n",
      "Assign a material to a physical group.\n",
      "*************************************************************\n",
      "dict_keys(['SOLID_1_1_SOLID_ELSET', 'LOW_ELSET', 'HIGH_ELSET', 'DIRICHLET_ELSET', 'TOP_LOW_ELSET', 'TOP_HIGH_ELSET', 'TOP_ELSET', 'SOLID_1_1_ELSET'])\n"
     ]
    }
   ],
   "source": [
    "# importing lib and setting a list of meshes to be tested\n",
    "import sys \n",
    "import amfe\n",
    "import os\n",
    "import matplotlib.pyplot as plt\n",
    "import numpy as np\n",
    "%matplotlib notebook\n",
    "\n",
    "\n",
    "# making the path relative to the project\n",
    "local_folder = os.getcwd()[:]\n",
    "os.chdir('..')\n",
    "project_folder = os.getcwd()[:]\n",
    "os.chdir(local_folder)\n",
    "sys.path.append(r'project_folder')\n",
    "\n",
    "mesh_inp = os.path.join(project_folder,r'data\\ansys_simple_blade_disc_files\\simple_blade_disc.inp')\n",
    "\n",
    "\n",
    "m = amfe.Mesh()\n",
    "m.import_inp(mesh_inp,1.0)\n",
    "\n",
    "m.split_in_groups()\n",
    "\n",
    "print(m.groups.keys())\n",
    "\n"
   ]
  },
  {
   "cell_type": "code",
   "execution_count": 4,
   "metadata": {},
   "outputs": [
    {
     "name": "stdout",
     "output_type": "stream",
     "text": [
      "Element in mesh is not supported.\n",
      "Element in mesh is not supported.\n",
      "Element in mesh is not supported.\n",
      "Element in mesh is not supported.\n",
      "Element in mesh is not supported.\n",
      "Element in mesh is not supported.\n",
      "Element in mesh is not supported.\n",
      "Element in mesh is not supported.\n"
     ]
    },
    {
     "data": {
      "text/plain": [
       "(-21.047588429999998,\n",
       " 21.047588429999998,\n",
       " -21.047588429999998,\n",
       " 21.047588429999998)"
      ]
     },
     "execution_count": 4,
     "metadata": {},
     "output_type": "execute_result"
    },
    {
     "data": {
      "image/png": "[encoded data removed]",
      "text/plain": [
       "<Figure size 432x288 with 1 Axes>"
      ]
     },
     "metadata": {},
     "output_type": "display_data"
    }
   ],
   "source": [
    "sub_domain = m.groups['SOLID_1_1_SOLID_ELSET']\n",
    "\n",
    "\n",
    "ax = amfe.plot3Dmesh(m, ax=None, boundaries=True, alpha=0.2, color='blue', scale = 1000, plot_nodes=False)\n",
    "ax.view_init(-90, 0)\n",
    "#ax.set_aspect('equal', adjustable='box')\n",
    "xlim = ax.get_xlim()\n",
    "ax.set_ylim(xlim)\n",
    "ax.set_zlim(xlim)\n",
    "plt.axis('off')"
   ]
  },
  {
   "cell_type": "code",
   "execution_count": 5,
   "metadata": {},
   "outputs": [
    {
     "name": "stdout",
     "output_type": "stream",
     "text": [
      "Preallocating the stiffness matrix\n",
      "Done preallocating stiffness matrix with 606 elements and 1716 dofs.\n",
      "Time taken for preallocation: 0.03 seconds.\n"
     ]
    },
    {
     "ename": "ValueError",
     "evalue": "cannot reshape array of size 21 into shape (8,3)",
     "output_type": "error",
     "traceback": [
      "\u001b[1;31m---------------------------------------------------------------------------\u001b[0m",
      "\u001b[1;31mValueError\u001b[0m                                Traceback (most recent call last)",
      "\u001b[1;32m<ipython-input-5-bd2f56fa4e64>\u001b[0m in \u001b[0;36m<module>\u001b[1;34m()\u001b[0m\n\u001b[0;32m      5\u001b[0m \u001b[0mmy_comp\u001b[0m\u001b[1;33m.\u001b[0m\u001b[0mset_domain\u001b[0m\u001b[1;33m(\u001b[0m\u001b[1;34m'SOLID_1_1_SOLID_ELSET'\u001b[0m\u001b[1;33m,\u001b[0m\u001b[0mmy_material\u001b[0m\u001b[1;33m)\u001b[0m\u001b[1;33m\u001b[0m\u001b[0m\n\u001b[0;32m      6\u001b[0m \u001b[1;33m\u001b[0m\u001b[0m\n\u001b[1;32m----> 7\u001b[1;33m \u001b[0mK\u001b[0m\u001b[1;33m,\u001b[0m \u001b[0mf\u001b[0m \u001b[1;33m=\u001b[0m \u001b[0mmy_comp\u001b[0m\u001b[1;33m.\u001b[0m\u001b[0massembly_class\u001b[0m\u001b[1;33m.\u001b[0m\u001b[0massemble_k_and_f\u001b[0m\u001b[1;33m(\u001b[0m\u001b[1;33m)\u001b[0m\u001b[1;33m\u001b[0m\u001b[0m\n\u001b[0m\u001b[0;32m      8\u001b[0m \u001b[0mK_\u001b[0m\u001b[1;33m,\u001b[0m \u001b[0mf\u001b[0m \u001b[1;33m=\u001b[0m \u001b[0mmy_comp\u001b[0m\u001b[1;33m.\u001b[0m\u001b[0massembly_class\u001b[0m\u001b[1;33m.\u001b[0m\u001b[0massemble_k_and_f_neumann\u001b[0m\u001b[1;33m(\u001b[0m\u001b[1;33m)\u001b[0m\u001b[1;33m\u001b[0m\u001b[0m\n\u001b[0;32m      9\u001b[0m \u001b[0mM\u001b[0m \u001b[1;33m=\u001b[0m \u001b[0mmy_comp\u001b[0m\u001b[1;33m.\u001b[0m\u001b[0massembly_class\u001b[0m\u001b[1;33m.\u001b[0m\u001b[0massemble_m\u001b[0m\u001b[1;33m(\u001b[0m\u001b[1;33m)\u001b[0m\u001b[1;33m\u001b[0m\u001b[0m\n",
      "\u001b[1;32mc:\\amfe\\amfe\\assembly.py\u001b[0m in \u001b[0;36massemble_k_and_f\u001b[1;34m(self, u, t)\u001b[0m\n\u001b[0;32m    391\u001b[0m             \u001b[1;31m# K computation of the element tangential stiffness matrix and\u001b[0m\u001b[1;33m\u001b[0m\u001b[1;33m\u001b[0m\u001b[0m\n\u001b[0;32m    392\u001b[0m             \u001b[1;31m# nonlinear force\u001b[0m\u001b[1;33m\u001b[0m\u001b[1;33m\u001b[0m\u001b[0m\n\u001b[1;32m--> 393\u001b[1;33m             \u001b[0mK\u001b[0m\u001b[1;33m,\u001b[0m \u001b[0mf\u001b[0m \u001b[1;33m=\u001b[0m \u001b[0mself\u001b[0m\u001b[1;33m.\u001b[0m\u001b[0mmesh\u001b[0m\u001b[1;33m.\u001b[0m\u001b[0mele_obj\u001b[0m\u001b[1;33m[\u001b[0m\u001b[0mi\u001b[0m\u001b[1;33m]\u001b[0m\u001b[1;33m.\u001b[0m\u001b[0mk_and_f_int\u001b[0m\u001b[1;33m(\u001b[0m\u001b[0mX_local\u001b[0m\u001b[1;33m,\u001b[0m \u001b[0mu_local\u001b[0m\u001b[1;33m,\u001b[0m \u001b[0mt\u001b[0m\u001b[1;33m)\u001b[0m\u001b[1;33m\u001b[0m\u001b[0m\n\u001b[0m\u001b[0;32m    394\u001b[0m             \u001b[1;31m# adding the local force to the global one\u001b[0m\u001b[1;33m\u001b[0m\u001b[1;33m\u001b[0m\u001b[0m\n\u001b[0;32m    395\u001b[0m             \u001b[0mf_glob\u001b[0m\u001b[1;33m[\u001b[0m\u001b[0mindices\u001b[0m\u001b[1;33m]\u001b[0m \u001b[1;33m+=\u001b[0m \u001b[0mf\u001b[0m\u001b[1;33m\u001b[0m\u001b[0m\n",
      "\u001b[1;32mc:\\amfe\\amfe\\element.py\u001b[0m in \u001b[0;36mk_and_f_int\u001b[1;34m(self, X, u, t)\u001b[0m\n\u001b[0;32m    226\u001b[0m \u001b[1;33m\u001b[0m\u001b[0m\n\u001b[0;32m    227\u001b[0m         '''\n\u001b[1;32m--> 228\u001b[1;33m         \u001b[0mself\u001b[0m\u001b[1;33m.\u001b[0m\u001b[0m_compute_tensors\u001b[0m\u001b[1;33m(\u001b[0m\u001b[0mX\u001b[0m\u001b[1;33m,\u001b[0m \u001b[0mu\u001b[0m\u001b[1;33m,\u001b[0m \u001b[0mt\u001b[0m\u001b[1;33m)\u001b[0m\u001b[1;33m\u001b[0m\u001b[0m\n\u001b[0m\u001b[0;32m    229\u001b[0m         \u001b[1;32mreturn\u001b[0m \u001b[0mself\u001b[0m\u001b[1;33m.\u001b[0m\u001b[0mK\u001b[0m\u001b[1;33m,\u001b[0m \u001b[0mself\u001b[0m\u001b[1;33m.\u001b[0m\u001b[0mf\u001b[0m\u001b[1;33m\u001b[0m\u001b[0m\n\u001b[0;32m    230\u001b[0m \u001b[1;33m\u001b[0m\u001b[0m\n",
      "\u001b[1;32mc:\\amfe\\amfe\\element.py\u001b[0m in \u001b[0;36m_compute_tensors\u001b[1;34m(self, X, u, t)\u001b[0m\n\u001b[0;32m   1200\u001b[0m \u001b[1;33m\u001b[0m\u001b[0m\n\u001b[0;32m   1201\u001b[0m     \u001b[1;32mdef\u001b[0m \u001b[0m_compute_tensors\u001b[0m\u001b[1;33m(\u001b[0m\u001b[0mself\u001b[0m\u001b[1;33m,\u001b[0m \u001b[0mX\u001b[0m\u001b[1;33m,\u001b[0m \u001b[0mu\u001b[0m\u001b[1;33m,\u001b[0m \u001b[0mt\u001b[0m\u001b[1;33m)\u001b[0m\u001b[1;33m:\u001b[0m\u001b[1;33m\u001b[0m\u001b[0m\n\u001b[1;32m-> 1202\u001b[1;33m         \u001b[0mX_mat\u001b[0m \u001b[1;33m=\u001b[0m \u001b[0mX\u001b[0m\u001b[1;33m.\u001b[0m\u001b[0mreshape\u001b[0m\u001b[1;33m(\u001b[0m\u001b[1;36m8\u001b[0m\u001b[1;33m,\u001b[0m \u001b[1;36m3\u001b[0m\u001b[1;33m)\u001b[0m\u001b[1;33m\u001b[0m\u001b[0m\n\u001b[0m\u001b[0;32m   1203\u001b[0m         \u001b[0mu_mat\u001b[0m \u001b[1;33m=\u001b[0m \u001b[0mu\u001b[0m\u001b[1;33m.\u001b[0m\u001b[0mreshape\u001b[0m\u001b[1;33m(\u001b[0m\u001b[1;36m8\u001b[0m\u001b[1;33m,\u001b[0m \u001b[1;36m3\u001b[0m\u001b[1;33m)\u001b[0m\u001b[1;33m\u001b[0m\u001b[0m\n\u001b[0;32m   1204\u001b[0m \u001b[1;33m\u001b[0m\u001b[0m\n",
      "\u001b[1;31mValueError\u001b[0m: cannot reshape array of size 21 into shape (8,3)"
     ]
    }
   ],
   "source": [
    "my_comp = amfe.CraigBamptonComponent()\n",
    "my_comp.set_mesh_obj(m)\n",
    "\n",
    "my_material = amfe.KirchhoffMaterial(E=210E9, nu=0.3, rho=7.86E3, plane_stress=True, thickness=1.0)\n",
    "my_comp.set_domain('SOLID_1_1_SOLID_ELSET',my_material)\n",
    "\n",
    "K, f = my_comp.assembly_class.assemble_k_and_f()\n",
    "K_, f = my_comp.assembly_class.assemble_k_and_f_neumann()\n",
    "M = my_comp.assembly_class.assemble_m()\n",
    "\n",
    "dirsub = m.get_submesh('phys_group', 'DIRICHLET_ELSET')\n",
    "cyclic_low = m.get_submesh('phys_group', 'LOW_ELSET')\n",
    "cyclic_high = m.get_submesh('phys_group', 'HIGH_ELSET')\n",
    "cyclic_top_low = m.get_submesh('phys_group', 'TOP_LOW_ELSET')\n",
    "cyclic_top_high = m.get_submesh('phys_group', 'TOP_HIGH_ELSET')\n",
    "\n",
    "id_matrix = my_comp.assembly_class.id_matrix\n",
    "dir_dofs = amfe.get_dirichlet_dofs(dirsub, direction ='xyz', id_matrix=id_matrix)\n",
    "low_dofs = amfe.get_dirichlet_dofs(cyclic_low, direction ='xyz', id_matrix=id_matrix)\n",
    "high_dofs = amfe.get_dirichlet_dofs(cyclic_high, direction ='xyz', id_matrix=id_matrix)\n",
    "top_low_dofs = amfe.get_dirichlet_dofs(cyclic_top_low, direction ='xyz', id_matrix=id_matrix)\n",
    "top_high_dofs = amfe.get_dirichlet_dofs(cyclic_top_high, direction ='xyz', id_matrix=id_matrix)\n",
    "\n",
    "\n",
    "# remove Dirichle dofs at cyclic dofs \n",
    "dir_dofs = list(set(dir_dofs).difference(low_dofs))\n",
    "dir_dofs = list(set(dir_dofs).difference(high_dofs))\n",
    "\n",
    "# concatenating cyclic dofs\n",
    "all_low_dofs =[]\n",
    "all_low_dofs.extend(low_dofs)\n",
    "all_low_dofs.extend(top_low_dofs)\n",
    "all_high_dofs = []\n",
    "all_high_dofs.extend(high_dofs)\n",
    "all_high_dofs.extend(top_high_dofs)"
   ]
  },
  {
   "cell_type": "code",
   "execution_count": null,
   "metadata": {},
   "outputs": [],
   "source": [
    "sub_domain.get_element_type_list()"
   ]
  },
  {
   "cell_type": "code",
   "execution_count": null,
   "metadata": {
    "collapsed": true
   },
   "outputs": [],
   "source": []
  }
 ],
 "metadata": {
  "kernelspec": {
   "display_name": "Python (NDCSI)",
   "language": "python",
   "name": "ndcsi"
  },
  "language_info": {
   "codemirror_mode": {
    "name": "ipython",
    "version": 3
   },
   "file_extension": ".py",
   "mimetype": "text/x-python",
   "name": "python",
   "nbconvert_exporter": "python",
   "pygments_lexer": "ipython3",
   "version": "3.6.6"
  }
 },
 "nbformat": 4,
 "nbformat_minor": 2
}
