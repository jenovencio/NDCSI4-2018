{
 "cells": [
  {
   "cell_type": "code",
   "execution_count": 7,
   "metadata": {},
   "outputs": [],
   "source": [
    "import os, sys\n",
    "import numpy as np\n",
    "import copy\n",
    "\n",
    "# seeting some important path\n",
    "local_folder= copy.copy(os.getcwd()) \n",
    "os.chdir('..')\n",
    "project_folder = copy.copy(os.getcwd())   # getting project path\n",
    "os.chdir(local_folder)\n",
    "sys.path.append(project_folder)\n",
    "\n",
    "from wrappers.ansys_apdl_wrapper import pyAPDL\n"
   ]
  },
  {
   "cell_type": "code",
   "execution_count": null,
   "metadata": {
    "collapsed": true
   },
   "outputs": [],
   "source": [
    "my_ansys = pyAPDL()"
   ]
  }
 ],
 "metadata": {
  "kernelspec": {
   "display_name": "Python (NDCSI)",
   "language": "python",
   "name": "ndcsi"
  },
  "language_info": {
   "codemirror_mode": {
    "name": "ipython",
    "version": 3
   },
   "file_extension": ".py",
   "mimetype": "text/x-python",
   "name": "python",
   "nbconvert_exporter": "python",
   "pygments_lexer": "ipython3",
   "version": "3.6.6"
  }
 },
 "nbformat": 4,
 "nbformat_minor": 2
}
