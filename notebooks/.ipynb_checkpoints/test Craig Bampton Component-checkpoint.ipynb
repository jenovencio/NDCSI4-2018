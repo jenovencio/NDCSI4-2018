{
 "cells": [
  {
   "cell_type": "code",
   "execution_count": 1,
   "metadata": {},
   "outputs": [
    {
     "name": "stdout",
     "output_type": "stream",
     "text": [
      "Python was not able to load the fast fortran assembly routines.\n",
      "\n",
      "Python was not able to load the fast fortran material routines.\n",
      "\n",
      "Warning! Using mpiexec in global path\n",
      "Warning! Using python in global path\n"
     ]
    },
    {
     "data": {
      "image/png": "[encoded data removed]",
      "text/plain": [
       "<matplotlib.figure.Figure at 0x9ebe390>"
      ]
     },
     "metadata": {},
     "output_type": "display_data"
    }
   ],
   "source": [
    "import amfe\n",
    "import matplotlib.pyplot as plt\n",
    "import pandas as pd\n",
    "import scipy.linalg as linalg\n",
    "from scipy.sparse import linalg as splinalg\n",
    "import numpy as np\n",
    "\n",
    "mshfile = amfe.amfe_dir('meshes/test_meshes/2_partitions_quad_mesh.msh')\n",
    "mshfile = amfe.amfe_dir('meshes/test_meshes/retangule_square_hole_5_by_2_quad_par_1.msh')\n",
    "\n",
    "m = amfe.Mesh()\n",
    "m.import_msh(mshfile)\n",
    "\n",
    "\n",
    "\n",
    "amfe.plot_mesh(m)\n",
    "plt.show()\n"
   ]
  },
  {
   "cell_type": "code",
   "execution_count": 2,
   "metadata": {},
   "outputs": [
    {
     "name": "stdout",
     "output_type": "stream",
     "text": [
      "Preallocating the stiffness matrix\n",
      "Done preallocating stiffness matrix with 8 elements and 30 dofs.\n",
      "Time taken for preallocation: 0.00 seconds.\n"
     ]
    },
    {
     "data": {
      "text/plain": [
       "<amfe.mesh.SubMesh at 0xa441518>"
      ]
     },
     "execution_count": 2,
     "metadata": {},
     "output_type": "execute_result"
    }
   ],
   "source": [
    "my_comp = amfe.CraigBamptonComponent()\n",
    "my_comp.set_mesh_obj(m)\n",
    "\n",
    "my_material = amfe.KirchhoffMaterial(E=210E9, nu=0.3, rho=7.86E3, plane_stress=True, thickness=1.0)\n",
    "#domain = m.set_domain('phys_group', 3)\n",
    "#domain.set_material(my_material)\n",
    "\n",
    "\n",
    "my_comp.set_domain(3,my_material)\n"
   ]
  },
  {
   "cell_type": "code",
   "execution_count": 3,
   "metadata": {},
   "outputs": [
    {
     "data": {
      "image/png": "[encoded data removed]",
      "text/plain": [
       "<matplotlib.figure.Figure at 0xa03f240>"
      ]
     },
     "metadata": {},
     "output_type": "display_data"
    }
   ],
   "source": [
    "\n",
    "\n",
    "my_comp.apply_neumann_boundaries(2,1e8, 'normal')\n",
    "K, f = my_comp.assembly_class.assemble_k_and_f()\n",
    "K_, f = my_comp.assembly_class.assemble_k_and_f_neumann()\n",
    "M = my_comp.assembly_class.assemble_m()\n",
    "pd.DataFrame(K.todense())\n",
    "\n",
    "eigval, eigvec = linalg.eigh(K.todense())\n",
    "\n",
    "plt.plot(eigval[0:5], 'o')\n",
    "plt.show()\n",
    "\n"
   ]
  },
  {
   "cell_type": "code",
   "execution_count": 4,
   "metadata": {},
   "outputs": [
    {
     "name": "stderr",
     "output_type": "stream",
     "text": [
      "C:\\Users\\ndcsi\\.conda\\envs\\ndcsi\\lib\\site-packages\\scipy\\sparse\\compressed.py:774: SparseEfficiencyWarning: Changing the sparsity structure of a csr_matrix is expensive. lil_matrix is more efficient.\n",
      "  SparseEfficiencyWarning)\n"
     ]
    }
   ],
   "source": [
    "dirsub = m.get_submesh('phys_group', 1)\n",
    "dir_nodes = dirsub.global_node_list\n",
    "id_matrix = my_comp.assembly_class.id_matrix\n",
    "dir_dofs = []\n",
    "for node, dof in id_matrix.items():\n",
    "    if node in dir_nodes:\n",
    "        dir_dofs.extend(dof)\n",
    "\n",
    "        \n",
    "master_sub = m.get_submesh('phys_group', 2)\n",
    "master_nodes = master_sub.global_node_list\n",
    "id_matrix = my_comp.assembly_class.id_matrix\n",
    "master_dofs = []\n",
    "slave_dofs = []\n",
    "for node, dof in id_matrix.items():\n",
    "    if node in master_nodes:\n",
    "        master_dofs.extend(dof)        \n",
    "    else:\n",
    "        slave_dofs.extend(dof)\n",
    "\n",
    "K, M, f = my_comp.insert_dirichlet_boundary_cond(K,M,f,dir_dofs)\n",
    "\n",
    "       \n",
    "    \n",
    "slave_dofs = list(set(slave_dofs).difference(dir_dofs))\n",
    "master_dofs.extend(dir_dofs)\n",
    "\n",
    "\n",
    "from ipywidgets import interact\n",
    "%matplotlib inline\n",
    "def check(no_of_modes=20):\n",
    "    T, T_local, P, K_local, M_local = my_comp.compute(M, K, master_dofs, slave_dofs, no_of_modes=no_of_modes)\n",
    "\n",
    "\n",
    "    Mr = T.T.dot(M.todense()).dot(T)\n",
    "    Kr = T.T.dot(K.todense()).dot(T)\n",
    "    ff = T.T.dot(f)\n",
    "\n",
    "    no_of_modes = 10\n",
    "    omega, V_dynamic = linalg.eig(K.todense(), M.todense())\n",
    "    omega_red, V_dynamic_red = linalg.eig(Kr, Mr)\n",
    "\n",
    "    omega = np.sort(omega)\n",
    "    omega_red = np.sort(omega_red)\n",
    "\n",
    "    plt.plot(omega_red, 'o')\n",
    "    plt.plot(omega, 'x')\n",
    "    plt.show()\n",
    "\n"
   ]
  },
  {
   "cell_type": "code",
   "execution_count": 5,
   "metadata": {},
   "outputs": [
    {
     "name": "stderr",
     "output_type": "stream",
     "text": [
      "C:\\Users\\ndcsi\\.conda\\envs\\ndcsi\\lib\\site-packages\\scipy\\sparse\\linalg\\dsolve\\linsolve.py:253: SparseEfficiencyWarning: splu requires CSC matrix format\n",
      "  warn('splu requires CSC matrix format', SparseEfficiencyWarning)\n",
      "C:\\Users\\ndcsi\\.conda\\envs\\ndcsi\\lib\\site-packages\\scipy\\sparse\\linalg\\dsolve\\linsolve.py:171: SparseEfficiencyWarning: spsolve is more efficient when sparse b is in the CSC matrix format\n",
      "  'is in the CSC matrix format', SparseEfficiencyWarning)\n",
      "C:\\Users\\ndcsi\\.conda\\envs\\ndcsi\\lib\\site-packages\\scipy\\sparse\\compressed.py:774: SparseEfficiencyWarning: Changing the sparsity structure of a csc_matrix is expensive. lil_matrix is more efficient.\n",
      "  SparseEfficiencyWarning)\n"
     ]
    },
    {
     "name": "stdout",
     "output_type": "stream",
     "text": [
      "Replacing number of modes to 17\n"
     ]
    },
    {
     "name": "stderr",
     "output_type": "stream",
     "text": [
      "C:\\Users\\ndcsi\\.conda\\envs\\ndcsi\\lib\\site-packages\\numpy\\core\\numeric.py:531: ComplexWarning: Casting complex values to real discards the imaginary part\n",
      "  return array(a, dtype, copy=False, order=order)\n"
     ]
    },
    {
     "data": {
      "image/png": "[encoded data removed]",
      "text/plain": [
       "<matplotlib.figure.Figure at 0xa511e80>"
      ]
     },
     "metadata": {},
     "output_type": "display_data"
    },
    {
     "data": {
      "text/plain": [
       "<function __main__.check>"
      ]
     },
     "execution_count": 5,
     "metadata": {},
     "output_type": "execute_result"
    }
   ],
   "source": [
    "interact(check, no_of_modes=(1,20,1))    "
   ]
  },
  {
   "cell_type": "code",
   "execution_count": null,
   "metadata": {},
   "outputs": [],
   "source": [
    "\n"
   ]
  },
  {
   "cell_type": "code",
   "execution_count": null,
   "metadata": {},
   "outputs": [],
   "source": []
  },
  {
   "cell_type": "code",
   "execution_count": null,
   "metadata": {
    "collapsed": true
   },
   "outputs": [],
   "source": []
  }
 ],
 "metadata": {
  "kernelspec": {
   "display_name": "Python (NDCSI)",
   "language": "python",
   "name": "ndcsi"
  },
  "language_info": {
   "codemirror_mode": {
    "name": "ipython",
    "version": 3
   },
   "file_extension": ".py",
   "mimetype": "text/x-python",
   "name": "python",
   "nbconvert_exporter": "python",
   "pygments_lexer": "ipython3",
   "version": "3.6.2"
  }
 },
 "nbformat": 4,
 "nbformat_minor": 2
}
