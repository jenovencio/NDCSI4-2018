{
 "cells": [
  {
   "cell_type": "code",
   "execution_count": 1,
   "metadata": {},
   "outputs": [
    {
     "name": "stdout",
     "output_type": "stream",
     "text": [
      "Python was not able to load the fast fortran assembly routines.\n",
      "\n",
      "Python was not able to load the fast fortran material routines.\n",
      "\n",
      "Warning! Using mpiexec in global path\n",
      "Warning! Using python in global path\n",
      "Preallocating the stiffness matrix\n",
      "Done preallocating stiffness matrix with 8 elements and 30 dofs.\n",
      "Time taken for preallocation: 0.00 seconds.\n",
      "It is not possible to issert dof 2 as dirichlet dof\n",
      "It is not possible to issert dof 2 as dirichlet dof\n",
      "It is not possible to issert dof 2 as dirichlet dof\n",
      "Dirichlet boundary with generate a non-symetric Stiffness Matrix\n",
      "returning reduced right side, please umpack 5 elementes\n"
     ]
    },
    {
     "name": "stderr",
     "output_type": "stream",
     "text": [
      "C:\\Users\\ndcsi\\.conda\\envs\\ndcsi\\lib\\site-packages\\scipy\\sparse\\compressed.py:774: SparseEfficiencyWarning: Changing the sparsity structure of a csr_matrix is expensive. lil_matrix is more efficient.\n",
      "  SparseEfficiencyWarning)\n",
      "C:\\Users\\ndcsi\\.conda\\envs\\ndcsi\\lib\\site-packages\\scipy\\sparse\\compressed.py:774: SparseEfficiencyWarning: Changing the sparsity structure of a csc_matrix is expensive. lil_matrix is more efficient.\n",
      "  SparseEfficiencyWarning)\n"
     ]
    }
   ],
   "source": [
    "import amfe\n",
    "import matplotlib.pyplot as plt\n",
    "import pandas as pd\n",
    "import scipy.linalg as linalg\n",
    "from scipy.sparse import linalg as splinalg\n",
    "import numpy as np\n",
    "\n",
    "from ipywidgets import interact, interactive, fixed, interact_manual\n",
    "import ipywidgets as widgets\n",
    "#%matplotlib notebook\n",
    "\n",
    "mshfile = amfe.amfe_dir('meshes/test_meshes/2_partitions_quad_mesh.msh')\n",
    "#mshfile = amfe.amfe_dir('meshes/test_meshes/3_partition_2d_blade_quad_mesh.msh')\n",
    "\n",
    "m = amfe.Mesh()\n",
    "m.import_msh(mshfile)\n",
    "\n",
    "\n",
    "my_comp = amfe.CraigBamptonComponent()\n",
    "my_comp.set_mesh_obj(m)\n",
    "\n",
    "my_material = amfe.KirchhoffMaterial(E=210E9, nu=0.3, rho=7.86E3, plane_stress=True, thickness=1.0)\n",
    "\n",
    "my_comp.set_domain(3,my_material)\n",
    "\n",
    "K, f = my_comp.assembly_class.assemble_k_and_f()\n",
    "K_, f = my_comp.assembly_class.assemble_k_and_f_neumann()\n",
    "M = my_comp.assembly_class.assemble_m()\n",
    "\n",
    "\n",
    "dirsub = m.get_submesh('phys_group', 1)\n",
    "dirsub2 = m.get_submesh('phys_group', 2)\n",
    "\n",
    "id_matrix = my_comp.assembly_class.id_matrix\n",
    "dir_dofs = amfe.get_dirichlet_dofs(dirsub, direction ='xyz', id_matrix=id_matrix)\n",
    "dir_dofs_2 = amfe.get_dirichlet_dofs(dirsub2, direction ='x', id_matrix=id_matrix)\n",
    "\n",
    "value_1 = 0.0\n",
    "value_2 = 1.0\n",
    "\n",
    "K, M, f = my_comp.insert_dirichlet_boundary_cond(K,M,f,dir_dofs, value = value_1)\n",
    "K, M, f = my_comp.insert_dirichlet_boundary_cond(K,M,f,dir_dofs_2, value = value_2)\n",
    "\n",
    "Kii, S, S_inv, T, fi = my_comp.create_selection_operator(dir_dofs, K, f, remove = True)\n",
    "ui = splinalg.spsolve(Kii,fi)\n",
    "u = T(ui)\n",
    "\n"
   ]
  },
  {
   "cell_type": "code",
   "execution_count": 2,
   "metadata": {},
   "outputs": [
    {
     "data": {
      "application/vnd.jupyter.widget-view+json": {
       "model_id": "a2e6b5956da14303bacabc6f55d5195b",
       "version_major": 2,
       "version_minor": 0
      },
      "text/plain": [
       "interactive(children=(FloatSlider(value=1.0, description='scale', max=5.0, step=0.5), Output()), _dom_classes=…"
      ]
     },
     "metadata": {},
     "output_type": "display_data"
    }
   ],
   "source": [
    "my_comp.u_output.append(0.0*u)\n",
    "my_comp.u_output.append(u)\n",
    "\n",
    "@interact(scale=(0,5,0.5))   \n",
    "def plot(scale=1):\n",
    "    amfe.plot_system_solution(my_comp,factor=scale)\n",
    "    plt.show()"
   ]
  },
  {
   "cell_type": "code",
   "execution_count": null,
   "metadata": {
    "collapsed": true
   },
   "outputs": [],
   "source": []
  }
 ],
 "metadata": {
  "kernelspec": {
   "display_name": "Python (NDCSI)",
   "language": "python",
   "name": "ndcsi"
  },
  "language_info": {
   "codemirror_mode": {
    "name": "ipython",
    "version": 3
   },
   "file_extension": ".py",
   "mimetype": "text/x-python",
   "name": "python",
   "nbconvert_exporter": "python",
   "pygments_lexer": "ipython3",
   "version": "3.6.2"
  }
 },
 "nbformat": 4,
 "nbformat_minor": 2
}
