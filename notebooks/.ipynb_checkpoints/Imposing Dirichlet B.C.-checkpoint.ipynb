{
 "cells": [
  {
   "cell_type": "code",
   "execution_count": 1,
   "metadata": {},
   "outputs": [
    {
     "name": "stdout",
     "output_type": "stream",
     "text": [
      "Python was not able to load the fast fortran assembly routines.\n",
      "\n",
      "Python was not able to load the fast fortran material routines.\n",
      "\n",
      "Warning! Using mpiexec in global path\n",
      "Warning! Using python in global path\n"
     ]
    },
    {
     "data": {
      "image/png": "[encoded data removed]",
      "text/plain": [
       "<matplotlib.figure.Figure at 0x9fbb470>"
      ]
     },
     "metadata": {},
     "output_type": "display_data"
    }
   ],
   "source": [
    "import amfe\n",
    "import matplotlib.pyplot as plt\n",
    "import pandas as pd\n",
    "import scipy.linalg as linalg\n",
    "from scipy.sparse import linalg as splinalg\n",
    "import numpy as np\n",
    "\n",
    "from ipywidgets import interact, interactive, fixed, interact_manual\n",
    "import ipywidgets as widgets\n",
    "#%matplotlib notebook\n",
    "\n",
    "mshfile = amfe.amfe_dir('meshes/test_meshes/2_partitions_quad_mesh.msh')\n",
    "#mshfile = amfe.amfe_dir('meshes/test_meshes/3_partition_2d_blade_quad_mesh.msh')\n",
    "\n",
    "m = amfe.Mesh()\n",
    "m.import_msh(mshfile)\n",
    "\n",
    "\n",
    "\n",
    "amfe.plot_mesh(m)\n",
    "plt.show()"
   ]
  },
  {
   "cell_type": "code",
   "execution_count": 2,
   "metadata": {},
   "outputs": [
    {
     "name": "stdout",
     "output_type": "stream",
     "text": [
      "Preallocating the stiffness matrix\n",
      "Done preallocating stiffness matrix with 8 elements and 30 dofs.\n",
      "Time taken for preallocation: 0.00 seconds.\n"
     ]
    },
    {
     "data": {
      "text/plain": [
       "<amfe.mesh.SubMesh at 0xa5285f8>"
      ]
     },
     "execution_count": 2,
     "metadata": {},
     "output_type": "execute_result"
    }
   ],
   "source": [
    "my_comp = amfe.CraigBamptonComponent()\n",
    "my_comp.set_mesh_obj(m)\n",
    "\n",
    "my_material = amfe.KirchhoffMaterial(E=210E9, nu=0.3, rho=7.86E3, plane_stress=True, thickness=1.0)\n",
    "#domain = m.set_domain('phys_group', 3)\n",
    "#domain.set_material(my_material)\n",
    "\n",
    "\n",
    "my_comp.set_domain(3,my_material)"
   ]
  },
  {
   "cell_type": "code",
   "execution_count": 3,
   "metadata": {
    "collapsed": true
   },
   "outputs": [],
   "source": [
    "my_comp.apply_neumann_boundaries(2,1e8, 'normal')\n",
    "K, f = my_comp.assembly_class.assemble_k_and_f()\n",
    "K_, f = my_comp.assembly_class.assemble_k_and_f_neumann()\n",
    "M = my_comp.assembly_class.assemble_m()\n"
   ]
  },
  {
   "cell_type": "code",
   "execution_count": 4,
   "metadata": {},
   "outputs": [
    {
     "name": "stdout",
     "output_type": "stream",
     "text": [
      "It is not possible to issert dof 2 as dirichlet dof\n",
      "It is not possible to issert dof 2 as dirichlet dof\n",
      "It is not possible to issert dof 2 as dirichlet dof\n",
      "Dirichlet boundary with generate a non-symetric Stiffness Matrix\n",
      "False\n",
      "[ 0.  0.  0.  0.  0.  0.]\n",
      "[ 1.0025  1.0025  1.005 ]\n"
     ]
    },
    {
     "name": "stderr",
     "output_type": "stream",
     "text": [
      "C:\\Users\\ndcsi\\.conda\\envs\\ndcsi\\lib\\site-packages\\scipy\\sparse\\compressed.py:774: SparseEfficiencyWarning: Changing the sparsity structure of a csr_matrix is expensive. lil_matrix is more efficient.\n",
      "  SparseEfficiencyWarning)\n"
     ]
    }
   ],
   "source": [
    "\n",
    "def get_dirichlet_dofs(submesh_obj,direction ='xyz',id_matrix=None):\n",
    "    \n",
    "    x_dir = 0\n",
    "    y_dir = 1\n",
    "    z_dir = 2\n",
    "    \n",
    "    dofs_to_keep = []\n",
    "    if 'x' in direction:\n",
    "        dofs_to_keep.append(x_dir)\n",
    "\n",
    "    if 'y' in direction:\n",
    "        dofs_to_keep.append(y_dir)\n",
    "    \n",
    "    if 'z' in direction:\n",
    "        dofs_to_keep.append(z_dir)\n",
    "    \n",
    "    \n",
    "    \n",
    "    dir_nodes = submesh_obj.global_node_list\n",
    "    \n",
    "    dir_dofs = []\n",
    "    for node, dofs in id_matrix.items():\n",
    "        if node in dir_nodes:\n",
    "            local_dofs = []\n",
    "            for i in dofs_to_keep:\n",
    "                try:\n",
    "                    local_dofs.append(dofs[i])\n",
    "                except:\n",
    "                    print('It is not possible to issert dof %i as dirichlet dof' %i)\n",
    "            dir_dofs.extend(local_dofs)\n",
    "    return dir_dofs\n",
    "\n",
    "\n",
    "dirsub = m.get_submesh('phys_group', 1)\n",
    "dirsub2 = m.get_submesh('phys_group', 2)\n",
    "\n",
    "id_matrix = my_comp.assembly_class.id_matrix\n",
    "dir_dofs = get_dirichlet_dofs(dirsub, direction ='xyz', id_matrix=id_matrix)\n",
    "dir_dofs_2 = get_dirichlet_dofs(dirsub2, direction ='x', id_matrix=id_matrix)\n",
    "\n",
    "K, M, f = my_comp.insert_dirichlet_boundary_cond(K,M,f,dir_dofs, value = 0.0)\n",
    "\n",
    "\n",
    "K, M, f = my_comp.insert_dirichlet_boundary_cond(K,M,f,dir_dofs_2, value = 1.0)\n",
    "\n",
    "print(my_comp.check_symmetry(K))\n",
    "\n",
    "u = splinalg.spsolve(K,f)\n",
    "\n",
    "\n",
    "\n",
    "print(u[dir_dofs])\n",
    "print(u[dir_dofs_2])\n",
    "my_comp.u_output.append(0.0*u)\n",
    "my_comp.u_output.append(u)\n"
   ]
  },
  {
   "cell_type": "code",
   "execution_count": 7,
   "metadata": {},
   "outputs": [
    {
     "data": {
      "application/vnd.jupyter.widget-view+json": {
       "model_id": "19fa149e8cdc4d16a8a30e1671745240",
       "version_major": 2,
       "version_minor": 0
      },
      "text/plain": [
       "interactive(children=(FloatSlider(value=2.0, description='scale', max=5.0), Output()), _dom_classes=('widget-i…"
      ]
     },
     "metadata": {},
     "output_type": "display_data"
    }
   ],
   "source": [
    "@interact(scale=(0,5,0.1))   \n",
    "def plot(scale):\n",
    "    amfe.plot_system_solution(my_comp,factor=scale)\n",
    "    plt.show()"
   ]
  }
 ],
 "metadata": {
  "kernelspec": {
   "display_name": "Python (NDCSI)",
   "language": "python",
   "name": "ndcsi"
  },
  "language_info": {
   "codemirror_mode": {
    "name": "ipython",
    "version": 3
   },
   "file_extension": ".py",
   "mimetype": "text/x-python",
   "name": "python",
   "nbconvert_exporter": "python",
   "pygments_lexer": "ipython3",
   "version": "3.6.2"
  }
 },
 "nbformat": 4,
 "nbformat_minor": 2
}
