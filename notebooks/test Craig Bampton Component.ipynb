{
 "cells": [
  {
   "cell_type": "code",
   "execution_count": 1,
   "metadata": {},
   "outputs": [
    {
     "name": "stdout",
     "output_type": "stream",
     "text": [
      "Python was not able to load the fast fortran assembly routines.\n",
      "\n",
      "Python was not able to load the fast fortran material routines.\n",
      "\n",
      "Warning! Using mpiexec in global path\n",
      "Warning! Using python in global path\n"
     ]
    },
    {
     "data": {
      "image/png": "[encoded data removed]",
      "text/plain": [
       "<matplotlib.figure.Figure at 0x4efc128>"
      ]
     },
     "metadata": {},
     "output_type": "display_data"
    }
   ],
   "source": [
    "import amfe\n",
    "import matplotlib.pyplot as plt\n",
    "import pandas as pd\n",
    "import scipy.linalg as linalg\n",
    "from scipy.sparse import linalg as splinalg\n",
    "import numpy as np\n",
    "\n",
    "from ipywidgets import interact, interactive, fixed, interact_manual\n",
    "import ipywidgets as widgets\n",
    "#%matplotlib notebook\n",
    "\n",
    "mshfile = amfe.amfe_dir('meshes/test_meshes/2_partitions_quad_mesh.msh')\n",
    "#mshfile = amfe.amfe_dir('meshes/test_meshes/3_partition_2d_blade_quad_mesh.msh')\n",
    "\n",
    "m = amfe.Mesh()\n",
    "m.import_msh(mshfile)\n",
    "\n",
    "\n",
    "fig, ax1 = plt.subplots(1, figsize=(20,5), dpi = 50 )\n",
    "amfe.plot_mesh(m, ax1)\n",
    "plt.show()\n"
   ]
  },
  {
   "cell_type": "code",
   "execution_count": 2,
   "metadata": {},
   "outputs": [
    {
     "name": "stdout",
     "output_type": "stream",
     "text": [
      "Preallocating the stiffness matrix\n",
      "Done preallocating stiffness matrix with 8 elements and 30 dofs.\n",
      "Time taken for preallocation: 0.00 seconds.\n"
     ]
    },
    {
     "data": {
      "text/plain": [
       "<amfe.mesh.SubMesh at 0xa514b70>"
      ]
     },
     "execution_count": 2,
     "metadata": {},
     "output_type": "execute_result"
    }
   ],
   "source": [
    "my_comp = amfe.CraigBamptonComponent()\n",
    "my_comp.set_mesh_obj(m)\n",
    "\n",
    "my_material = amfe.KirchhoffMaterial(E=210E9, nu=0.3, rho=7.86E3, plane_stress=True, thickness=1.0)\n",
    "#domain = m.set_domain('phys_group', 3)\n",
    "#domain.set_material(my_material)\n",
    "\n",
    "\n",
    "my_comp.set_domain(3,my_material)\n"
   ]
  },
  {
   "cell_type": "code",
   "execution_count": 3,
   "metadata": {},
   "outputs": [],
   "source": [
    "my_comp.apply_neumann_boundaries(2,1e8, 'normal')\n",
    "K, f = my_comp.assembly_class.assemble_k_and_f()\n",
    "K_, f = my_comp.assembly_class.assemble_k_and_f_neumann()\n",
    "M = my_comp.assembly_class.assemble_m()\n",
    "#pd.DataFrame(K.todense())\n",
    "#eigval, eigvec = linalg.eigh(K.todense())\n",
    "#plt.plot(eigval[0:5], 'o')\n",
    "#plt.show()\n",
    "\n"
   ]
  },
  {
   "cell_type": "code",
   "execution_count": 9,
   "metadata": {},
   "outputs": [
    {
     "name": "stderr",
     "output_type": "stream",
     "text": [
      "C:\\Users\\ndcsi\\.conda\\envs\\ndcsi\\lib\\site-packages\\scipy\\sparse\\compressed.py:774: SparseEfficiencyWarning: Changing the sparsity structure of a csc_matrix is expensive. lil_matrix is more efficient.\n",
      "  SparseEfficiencyWarning)\n"
     ]
    }
   ],
   "source": [
    "dirsub = m.get_submesh('phys_group', 1)\n",
    "dir_nodes = dirsub.global_node_list\n",
    "id_matrix = my_comp.assembly_class.id_matrix\n",
    "dir_dofs = []\n",
    "for node, dof in id_matrix.items():\n",
    "    if node in dir_nodes:\n",
    "        dir_dofs.extend(dof)\n",
    "\n",
    "        \n",
    "master_sub = m.get_submesh('phys_group', 2)\n",
    "master_nodes = master_sub.global_node_list\n",
    "id_matrix = my_comp.assembly_class.id_matrix\n",
    "master_dofs = []\n",
    "slave_dofs = []\n",
    "for node, dof in id_matrix.items():\n",
    "    if node in master_nodes:\n",
    "        master_dofs.extend(dof)        \n",
    "    else:\n",
    "        slave_dofs.extend(dof)\n",
    "\n",
    "K, M, f = my_comp.insert_dirichlet_boundary_cond(K,M,f,dir_dofs)\n",
    "K, M, f = my_comp.insert_dirichlet_boundary_cond(K,M,f,dir_dofs)\n",
    "Kii, S, S_inv, T = my_comp.create_selection_operator(dir_dofs, K, f=None, remove = True, Guyan = False)\n",
    "Mii, S, S_inv, T = my_comp.create_selection_operator(dir_dofs, M, f=None, remove = True, Guyan = False)\n",
    "    \n",
    "\n",
    "#mega, V_dynamic = linalg.eig(K.todense(), M.todense())\n",
    "omega, V_dynamic = linalg.eig(Kii.todense(), Mii.todense())\n",
    "\n",
    "slave_dofs = list(set(slave_dofs).difference(dir_dofs))\n",
    "master_dofs.extend(dir_dofs)\n"
   ]
  },
  {
   "cell_type": "code",
   "execution_count": 10,
   "metadata": {},
   "outputs": [
    {
     "data": {
      "text/plain": [
       "array([  1.86788815e+09+0.j,   1.76407237e+09+0.j,   1.72435451e+09+0.j,\n",
       "         1.52618690e+09+0.j,   1.44141590e+09+0.j,   1.29242754e+09+0.j,\n",
       "         1.23722499e+09+0.j,   1.20403040e+09+0.j,   8.42248677e+08+0.j,\n",
       "         7.36986549e+08+0.j,   7.00143526e+08+0.j,   6.45969374e+08+0.j,\n",
       "         1.45402350e+06+0.j,   1.69998369e+07+0.j,   2.38070106e+07+0.j,\n",
       "         1.18951043e+08+0.j,   1.63309627e+08+0.j,   1.87146211e+08+0.j,\n",
       "         5.30892663e+08+0.j,   2.88293754e+08+0.j,   3.32373854e+08+0.j,\n",
       "         3.64139484e+08+0.j,   4.39781916e+08+0.j,   4.17945347e+08+0.j])"
      ]
     },
     "execution_count": 10,
     "metadata": {},
     "output_type": "execute_result"
    }
   ],
   "source": [
    "omega"
   ]
  },
  {
   "cell_type": "code",
   "execution_count": 14,
   "metadata": {},
   "outputs": [
    {
     "data": {
      "application/vnd.jupyter.widget-view+json": {
       "model_id": "1b23e33722ed4d4ebdd7b8b1a6d36f54",
       "version_major": 2,
       "version_minor": 0
      },
      "text/plain": [
       "interactive(children=(IntSlider(value=20, description='no_of_modes', max=20, min=1), Output()), _dom_classes=(…"
      ]
     },
     "metadata": {},
     "output_type": "display_data"
    }
   ],
   "source": [
    "@interact(no_of_modes=(1,20,1))    \n",
    "def check(no_of_modes=500):\n",
    "    T, T_local, P, K_local, M_local = my_comp.compute_Craig_Bampton_Red(M, K, master_dofs, slave_dofs, no_of_modes=no_of_modes)\n",
    "\n",
    "    Mr = T.T.dot(M.todense()).dot(T)\n",
    "    Kr = T.T.dot(K.todense()).dot(T)\n",
    "    ff = T.T.dot(f)\n",
    "\n",
    "    #no_of_modes = 10\n",
    "    \n",
    "    omega_red, V_dynamic_red = linalg.eig(Kr, Mr)\n",
    "\n",
    "    omega_global = np.sort(np.sqrt(omega[:]))\n",
    "    omega_red = np.sort(np.sqrt(omega_red))\n",
    "\n",
    "    plt.plot(omega_red, 'o', label = '$\\omega$ - Reduced Model with half of Dofs')\n",
    "    plt.plot(omega_global, 'x',label = '$\\omega$ - Original Model')\n",
    "    plt.xlabel('Mode number')\n",
    "    plt.ylabel('$\\omega$')\n",
    "    plt.legend()\n",
    "    plt.show()\n"
   ]
  },
  {
   "cell_type": "code",
   "execution_count": null,
   "metadata": {
    "collapsed": true
   },
   "outputs": [],
   "source": []
  }
 ],
 "metadata": {
  "kernelspec": {
   "display_name": "Python (NDCSI)",
   "language": "python",
   "name": "ndcsi"
  },
  "language_info": {
   "codemirror_mode": {
    "name": "ipython",
    "version": 3
   },
   "file_extension": ".py",
   "mimetype": "text/x-python",
   "name": "python",
   "nbconvert_exporter": "python",
   "pygments_lexer": "ipython3",
   "version": "3.6.2"
  }
 },
 "nbformat": 4,
 "nbformat_minor": 2
}
