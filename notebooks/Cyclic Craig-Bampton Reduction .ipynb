{
 "cells": [
  {
   "cell_type": "code",
   "execution_count": null,
   "metadata": {
    "collapsed": true
   },
   "outputs": [],
   "source": [
    "# importing lib and setting a list of meshes to be tested\n",
    "import sys \n",
    "import amfe\n",
    "import os\n",
    "import matplotlib.pyplot as plt\n",
    "import numpy as np\n",
    "from scipy.sparse import linalg as splinalg\n",
    "import copy\n",
    "%matplotlib notebook\n",
    "\n",
    "\n",
    "# making the path relative to the project\n",
    "local_folder = os.getcwd()[:]\n",
    "os.chdir('..')\n",
    "project_folder = os.getcwd()[:]\n",
    "os.chdir(local_folder)\n",
    "sys.path.append(r'project_folder')\n",
    "\n",
    "mesh_inp = os.path.join(project_folder,r'data\\ansys_simple_blade_disc_files\\simple_blade_disc.inp')\n",
    "\n",
    "\n",
    "m = amfe.Mesh()\n",
    "m.import_inp(mesh_inp,1.0)\n",
    "\n",
    "ax = amfe.plot3Dmesh(m, ax=None, boundaries=True, alpha=0.2, color='blue', scale = 1000, plot_nodes=False)\n",
    "ax.view_init(-90, 0)\n",
    "#ax.set_aspect('equal', adjustable='box')\n",
    "xlim = ax.get_xlim()\n",
    "ax.set_ylim(xlim)\n",
    "ax.set_zlim(xlim)\n",
    "plt.axis('off')"
   ]
  },
  {
   "cell_type": "code",
   "execution_count": null,
   "metadata": {
    "collapsed": true
   },
   "outputs": [],
   "source": [
    "my_comp = amfe.CraigBamptonComponent()\n",
    "my_comp.set_mesh_obj(m)\n",
    "\n",
    "my_material = amfe.KirchhoffMaterial(E=210E9, nu=0.3, rho=7.86E3, plane_stress=True, thickness=1.0)\n",
    "my_comp.set_domain('SOLID_1_1_SOLID_ELSET',my_material)\n",
    "\n",
    "K, f = my_comp.assembly_class.assemble_k_and_f()\n",
    "K_, f = my_comp.assembly_class.assemble_k_and_f_neumann()\n",
    "M = my_comp.assembly_class.assemble_m()\n",
    "\n",
    "dirsub = m.get_submesh('phys_group', 'DIRICHLET_ELSET')\n",
    "cyclic_low = m.get_submesh('phys_group', 'LOW_ELSET')\n",
    "cyclic_high = m.get_submesh('phys_group', 'HIGH_ELSET')\n",
    "cyclic_top_low = m.get_submesh('phys_group', 'TOP_LOW_ELSET')\n",
    "cyclic_top_high = m.get_submesh('phys_group', 'TOP_HIGH_ELSET')\n",
    "\n",
    "id_matrix = my_comp.assembly_class.id_matrix\n",
    "dir_dofs = amfe.get_dirichlet_dofs(dirsub, direction ='xyz', id_matrix=id_matrix)\n",
    "low_dofs = amfe.get_dirichlet_dofs(cyclic_low, direction ='xyz', id_matrix=id_matrix)\n",
    "high_dofs = amfe.get_dirichlet_dofs(cyclic_high, direction ='xyz', id_matrix=id_matrix)\n",
    "top_low_dofs = amfe.get_dirichlet_dofs(cyclic_top_low, direction ='xyz', id_matrix=id_matrix)\n",
    "top_high_dofs = amfe.get_dirichlet_dofs(cyclic_top_high, direction ='xyz', id_matrix=id_matrix)\n",
    "\n",
    "\n",
    "# concatenating cyclic dofs\n",
    "all_low_dofs =[]\n",
    "all_low_dofs.extend(low_dofs)\n",
    "all_low_dofs.extend(top_low_dofs)\n",
    "all_high_dofs = []\n",
    "all_high_dofs.extend(high_dofs)\n",
    "all_high_dofs.extend(top_high_dofs)\n",
    "\n",
    "\n",
    "# remove Dirichle dofs at cyclic dofs \n",
    "dir_dofs = list(set(dir_dofs).difference(all_low_dofs))\n",
    "dir_dofs = list(set(dir_dofs).difference(all_high_dofs))"
   ]
  }
 ],
 "metadata": {
  "kernelspec": {
   "display_name": "Python (NDCSI)",
   "language": "python",
   "name": "ndcsi"
  },
  "language_info": {
   "codemirror_mode": {
    "name": "ipython",
    "version": 3
   },
   "file_extension": ".py",
   "mimetype": "text/x-python",
   "name": "python",
   "nbconvert_exporter": "python",
   "pygments_lexer": "ipython3",
   "version": "3.6.2"
  }
 },
 "nbformat": 4,
 "nbformat_minor": 1
}
